{
 "cells": [
  {
   "cell_type": "code",
   "execution_count": 2,
   "metadata": {},
   "outputs": [],
   "source": [
    "import numpy as np\n",
    "import numpy_financial as npf"
   ]
  },
  {
   "cell_type": "markdown",
   "metadata": {},
   "source": [
    "Weighted Average Cost of Capital \n",
    "\n",
    "\\begin{equation*} WACC= \\frac{E}{E+D}\\cdot r+\\frac{D}{E+D}\\cdot q\\cdot (1-t)\\end{equation*}\n",
    "\n",
    "where:\n",
    "Re = Cost of equity<br /> \n",
    "Rd = Cost of debt<br /> \n",
    "E = Market value of the firm’s equity<br /> \n",
    "D = Market value of the firm’s debt<br /> \n",
    "V = E + D = Total market value of the firm’s financing<br /> \n",
    "E/V = Percentage of financing that is equity<br /> \n",
    "D/V = Percentage of financing that is debt<br /> \n",
    "Tc = Corporate tax rate<br /> \n"
   ]
  },
  {
   "cell_type": "code",
   "execution_count": 3,
   "metadata": {},
   "outputs": [
    {
     "name": "stdout",
     "output_type": "stream",
     "text": [
      "Debt Financing: 50.0%\n",
      "Equity Financing: 50.0%\n"
     ]
    }
   ],
   "source": [
    "# market value of debt\n",
    "mval_debt = 1_000_000\n",
    "\n",
    "# market value of equity\n",
    "mval_equity = 1_000_000\n",
    "\n",
    "# Total market value of company's financing\n",
    "mval_total = mval_debt + mval_equity\n",
    "\n",
    "# The proportion of company's financing via debt\n",
    "percent_debt = mval_debt/mval_total\n",
    "print(\"Debt Financing: \" + str(round(100*percent_debt, 2)) + \"%\")\n",
    "\n",
    "# The proportion of company's financing via equity\n",
    "percent_equity = mval_equity/mval_total\n",
    "print(\"Equity Financing: \" + str(round(100*percent_equity, 2)) + \"%\")"
   ]
  },
  {
   "cell_type": "code",
   "execution_count": 4,
   "metadata": {},
   "outputs": [
    {
     "name": "stdout",
     "output_type": "stream",
     "text": [
      "WACC: 12.9%\n"
     ]
    }
   ],
   "source": [
    "# The proportion of debt vs equity financing\n",
    "percent_debt = 0.50\n",
    "percent_equity = 0.50\n",
    "\n",
    "# The cost of equity\n",
    "cost_equity = 0.18\n",
    "\n",
    "# The cost of debt\n",
    "cost_debt = 0.12\n",
    "\n",
    "# The corporate tax rate\n",
    "tax_rate = 0.35\n",
    "\n",
    "# Calculate the WACC\n",
    "wacc = percent_equity * cost_equity + percent_debt * cost_debt * (1 - tax_rate)\n",
    "print(\"WACC: \" + str(round(100*wacc, 2)) + \"%\")"
   ]
  }
 ],
 "metadata": {
  "kernelspec": {
   "display_name": "Python 3",
   "language": "python",
   "name": "python3"
  },
  "language_info": {
   "codemirror_mode": {
    "name": "ipython",
    "version": 3
   },
   "file_extension": ".py",
   "mimetype": "text/x-python",
   "name": "python",
   "nbconvert_exporter": "python",
   "pygments_lexer": "ipython3",
   "version": "3.7.6"
  }
 },
 "nbformat": 4,
 "nbformat_minor": 4
}
