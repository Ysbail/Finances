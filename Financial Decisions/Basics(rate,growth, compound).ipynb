{
 "cells": [
  {
   "cell_type": "markdown",
   "metadata": {},
   "source": [
    "### 1. The future value (cumulative return) of a 1000 investment which grows at a rate of 6% per year for 30 years"
   ]
  },
  {
   "cell_type": "code",
   "execution_count": 1,
   "metadata": {},
   "outputs": [
    {
     "name": "stdout",
     "output_type": "stream",
     "text": [
      "Future Value of Investment: 5743.49\n"
     ]
    }
   ],
   "source": [
    "future_value = 1000 * (1+ 0.06)**30\n",
    "print(\"Future Value of Investment: \" + str(round(future_value, 2)))"
   ]
  },
  {
   "cell_type": "markdown",
   "metadata": {},
   "source": [
    "### 2. The value of a 1000 investment which grows at a rate of 5% per year for 30 years in a row compounded yearly, quarterly and monthly"
   ]
  },
  {
   "cell_type": "code",
   "execution_count": 2,
   "metadata": {},
   "outputs": [],
   "source": [
    "initial_investment = 1000\n",
    "growth_periods = 30\n",
    "growth_rate = 0.05"
   ]
  },
  {
   "cell_type": "code",
   "execution_count": 3,
   "metadata": {},
   "outputs": [
    {
     "name": "stdout",
     "output_type": "stream",
     "text": [
      "Investment: 4321.94\n",
      "Investment: 4440.21\n",
      "Investment: 4467.74\n"
     ]
    }
   ],
   "source": [
    "compound_periods = 1\n",
    "investment = initial_investment * (1 + growth_rate / compound_periods) ** (compound_periods * growth_periods)\n",
    "print(\"Investment: \" + str(round(investment, 2)))\n",
    "\n",
    "compound_periods = 4\n",
    "investment = initial_investment * (1 + growth_rate / compound_periods) ** (compound_periods * growth_periods)\n",
    "print(\"Investment: \" + str(round(investment, 2)))\n",
    "\n",
    "compound_periods = 12\n",
    "investment = initial_investment * (1 + growth_rate / compound_periods) ** (compound_periods * growth_periods)\n",
    "print(\"Investment: \" + str(round(investment, 2)))"
   ]
  },
  {
   "cell_type": "markdown",
   "metadata": {},
   "source": [
    "### 3. The future value of a 1000 investment that depreciates in value by 3% per year for 10 years"
   ]
  },
  {
   "cell_type": "code",
   "execution_count": 4,
   "metadata": {},
   "outputs": [
    {
     "name": "stdout",
     "output_type": "stream",
     "text": [
      "Future value: 737.42\n"
     ]
    }
   ],
   "source": [
    "initial_investment = 1000\n",
    "growth_rate = -0.03\n",
    "growth_periods = 10\n",
    "future_value = initial_investment * (1 + growth_rate)** growth_periods\n",
    "print(\"Future value: \" + str(round(future_value, 2)))"
   ]
  },
  {
   "cell_type": "markdown",
   "metadata": {},
   "source": [
    "### 4. The discount factor"
   ]
  },
  {
   "cell_type": "code",
   "execution_count": 5,
   "metadata": {},
   "outputs": [
    {
     "name": "stdout",
     "output_type": "stream",
     "text": [
      "Discount factor: 1.36\n"
     ]
    }
   ],
   "source": [
    "discount_factor = 1 / ((1 + growth_rate) ** growth_periods)\n",
    "print(\"Discount factor: \" + str(round(discount_factor, 2)))"
   ]
  },
  {
   "cell_type": "markdown",
   "metadata": {},
   "source": [
    "### 5. The  initial value of the investment"
   ]
  },
  {
   "cell_type": "code",
   "execution_count": 6,
   "metadata": {},
   "outputs": [
    {
     "name": "stdout",
     "output_type": "stream",
     "text": [
      "Initial value: 1000.0\n"
     ]
    }
   ],
   "source": [
    "initial_investment_again = future_value * discount_factor\n",
    "print(\"Initial value: \" + str(round(initial_investment_again, 2)))"
   ]
  }
 ],
 "metadata": {
  "kernelspec": {
   "display_name": "Python 3",
   "language": "python",
   "name": "python3"
  },
  "language_info": {
   "codemirror_mode": {
    "name": "ipython",
    "version": 3
   },
   "file_extension": ".py",
   "mimetype": "text/x-python",
   "name": "python",
   "nbconvert_exporter": "python",
   "pygments_lexer": "ipython3",
   "version": "3.7.6"
  }
 },
 "nbformat": 4,
 "nbformat_minor": 4
}
