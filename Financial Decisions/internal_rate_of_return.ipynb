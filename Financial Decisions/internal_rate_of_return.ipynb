{
 "cells": [
  {
   "cell_type": "code",
   "execution_count": 1,
   "metadata": {},
   "outputs": [],
   "source": [
    "import numpy as np\n",
    "import numpy_financial as npf"
   ]
  },
  {
   "cell_type": "markdown",
   "metadata": {},
   "source": [
    "### Comparing the internal rate of return (IRR) of each project "
   ]
  },
  {
   "cell_type": "code",
   "execution_count": 2,
   "metadata": {},
   "outputs": [],
   "source": [
    "cf_project1 = np.array([-1000000,   200000,   250000,   300000,   350000,   400000,\n",
    "         450000,   500000,   550000,   600000])\n",
    "cf_project2 = np.array([-1000000,   150000,   225000,   300000,   375000,   425000,\n",
    "         500000,   575000,   600000,   625000])"
   ]
  },
  {
   "cell_type": "code",
   "execution_count": 3,
   "metadata": {},
   "outputs": [
    {
     "name": "stdout",
     "output_type": "stream",
     "text": [
      "Project 1 IRR: 28.92%\n",
      "Project 2 IRR: 28.78%\n"
     ]
    }
   ],
   "source": [
    "irr_project1 = npf.irr(cf_project1)\n",
    "print(\"Project 1 IRR: \" + str(round(100*irr_project1, 2)) + \"%\")\n",
    "\n",
    "irr_project2 = npf.irr(cf_project2)\n",
    "print(\"Project 2 IRR: \" + str(round(100*irr_project2, 2)) + \"%\")"
   ]
  },
  {
   "cell_type": "code",
   "execution_count": null,
   "metadata": {},
   "outputs": [],
   "source": []
  }
 ],
 "metadata": {
  "kernelspec": {
   "display_name": "Python 3",
   "language": "python",
   "name": "python3"
  },
  "language_info": {
   "codemirror_mode": {
    "name": "ipython",
    "version": 3
   },
   "file_extension": ".py",
   "mimetype": "text/x-python",
   "name": "python",
   "nbconvert_exporter": "python",
   "pygments_lexer": "ipython3",
   "version": "3.7.6"
  }
 },
 "nbformat": 4,
 "nbformat_minor": 4
}
