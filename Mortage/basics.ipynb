{
 "cells": [
  {
   "cell_type": "code",
   "execution_count": 1,
   "metadata": {},
   "outputs": [],
   "source": [
    "import numpy as np\n",
    "import numpy_financial as npf\n",
    "import matplotlib.pyplot as plt"
   ]
  },
  {
   "cell_type": "markdown",
   "metadata": {},
   "source": [
    "### 1. Calculate mortage value"
   ]
  },
  {
   "cell_type": "code",
   "execution_count": 2,
   "metadata": {},
   "outputs": [
    {
     "name": "stdout",
     "output_type": "stream",
     "text": [
      "Initial Down Payment: 160000.0\n",
      "Mortgage Loan: 640000.0\n"
     ]
    }
   ],
   "source": [
    "home_value = 800000\n",
    "down_payment_percent = 0.2\n",
    "down_payment = 800000 * down_payment_percent\n",
    "print(\"Initial Down Payment: \" + str(down_payment))\n",
    "mortgage_loan = home_value - down_payment\n",
    "print(\"Mortgage Loan: \" + str(mortgage_loan))"
   ]
  },
  {
   "cell_type": "markdown",
   "metadata": {},
   "source": [
    "### 2. Calculating the Monthly Mortgage Payment"
   ]
  },
  {
   "cell_type": "markdown",
   "metadata": {},
   "source": [
    "monthly mortgage payment, function .pmt(rate, nper, pv) where:\n",
    "\n",
    "* rate = The periodic (monthly) interest rate\n",
    "* nper = The number of payment periods (months) in the lifespan of the mortgage loan\n",
    "* pv = The total value of the mortgage loan"
   ]
  },
  {
   "cell_type": "markdown",
   "metadata": {},
   "source": [
    "30-year mortgage loan quote for your desired amount at 3.75%"
   ]
  },
  {
   "cell_type": "code",
   "execution_count": 3,
   "metadata": {},
   "outputs": [
    {
     "name": "stdout",
     "output_type": "stream",
     "text": [
      "Monthly Mortgage Payment: 2941.13\n"
     ]
    }
   ],
   "source": [
    "mortgage_rate = 0.0375\n",
    "mortgage_rate_periodic = ((1 + mortgage_rate) ** (1/12)) - 1\n",
    "mortgage_payment_periods = 12 * 30\n",
    "\n",
    "periodic_mortgage_payment = -1 * npf.pmt(mortgage_rate_periodic, mortgage_payment_periods, mortgage_loan)\n",
    "print(\"Monthly Mortgage Payment: \" + str(round(periodic_mortgage_payment, 2)))"
   ]
  },
  {
   "cell_type": "markdown",
   "metadata": {},
   "source": [
    "### 3. The amount of the first loan payment that will go towards interest"
   ]
  },
  {
   "cell_type": "code",
   "execution_count": 4,
   "metadata": {},
   "outputs": [
    {
     "name": "stdout",
     "output_type": "stream",
     "text": [
      "Initial Interest Payment: 1966.43\n"
     ]
    }
   ],
   "source": [
    "initial_interest_payment = mortgage_loan * mortgage_rate_periodic\n",
    "print(\"Initial Interest Payment: \" + str(round(initial_interest_payment, 2)))"
   ]
  },
  {
   "cell_type": "markdown",
   "metadata": {},
   "source": [
    "### 4. The amount of the first loan payment that will go towards principal"
   ]
  },
  {
   "cell_type": "code",
   "execution_count": 5,
   "metadata": {},
   "outputs": [
    {
     "name": "stdout",
     "output_type": "stream",
     "text": [
      "Initial Principal Payment: 974.7\n"
     ]
    }
   ],
   "source": [
    "initial_principal_payment = periodic_mortgage_payment - initial_interest_payment\n",
    "print(\"Initial Principal Payment: \" + str(round(initial_principal_payment, 2)))"
   ]
  },
  {
   "cell_type": "markdown",
   "metadata": {},
   "source": [
    "### 5. Simulating Periodic Payments"
   ]
  },
  {
   "cell_type": "code",
   "execution_count": 6,
   "metadata": {},
   "outputs": [],
   "source": [
    "def print_payments(i, interest_payment, principal_payment, principal_remaining):\n",
    "    if i < 5:\n",
    "        print('Period ', i, ': Interest Paid:', interest_payment, \n",
    "              ': Principal Paid:', principal_payment, '| Remaining Balance:', round(principal_remaining[i], 2))"
   ]
  },
  {
   "cell_type": "code",
   "execution_count": 7,
   "metadata": {},
   "outputs": [
    {
     "name": "stdout",
     "output_type": "stream",
     "text": [
      "Period  0 : Interest Paid: 1966.43 : Principal Paid: 974.7 | Remaining Balance: 639025.3\n",
      "Period  1 : Interest Paid: 1963.43 : Principal Paid: 977.7 | Remaining Balance: 638047.6\n",
      "Period  2 : Interest Paid: 1960.43 : Principal Paid: 980.7 | Remaining Balance: 637066.9\n",
      "Period  3 : Interest Paid: 1957.41 : Principal Paid: 983.72 | Remaining Balance: 636083.18\n",
      "Period  4 : Interest Paid: 1954.39 : Principal Paid: 986.74 | Remaining Balance: 635096.44\n"
     ]
    },
    {
     "data": {
      "image/png": "[encoded data removed]",
      "text/plain": [
       "<Figure size 432x288 with 1 Axes>"
      ]
     },
     "metadata": {
      "needs_background": "light"
     },
     "output_type": "display_data"
    }
   ],
   "source": [
    "principal_remaining = np.zeros(360)\n",
    "interest_paid = np.zeros(360)\n",
    "principal_paid = np.zeros(360)\n",
    "\n",
    "for i in range(0, mortgage_payment_periods):\n",
    "    \n",
    "    # Handle the case for the first iteration\n",
    "    if i == 0:\n",
    "        previous_principal_remaining = mortgage_loan\n",
    "    else:\n",
    "        previous_principal_remaining = principal_remaining[i - 1]\n",
    "        \n",
    "    # Calculate the interest and principal payments\n",
    "    interest_payment = round(previous_principal_remaining * mortgage_rate_periodic, 2)\n",
    "    principal_payment = round(periodic_mortgage_payment - interest_payment, 2)\n",
    "    \n",
    "    # Catch the case where all principal is paid off in the final period\n",
    "    if previous_principal_remaining - principal_payment < 0:\n",
    "        principal_payment = previous_principal_remaining\n",
    "        \n",
    "    # Collect the principal remaining values in an array\n",
    "    principal_remaining[i] = previous_principal_remaining - principal_payment\n",
    "    \n",
    "    # Print the payments for the first few periods\n",
    "    print_payments(i, interest_payment, principal_payment, principal_remaining)\n",
    "    \n",
    "    # Collect the historical values\n",
    "    interest_paid[i] = interest_payment\n",
    "    principal_paid[i] = principal_payment\n",
    "    principal_remaining[i] = previous_principal_remaining - principal_payment\n",
    "    \n",
    "plt.plot(interest_paid, color=\"red\")\n",
    "plt.plot(principal_paid, color=\"blue\")\n",
    "plt.xlabel('Period')\n",
    "plt.ylabel('Amount Paid for Month')\n",
    "plt.show()"
   ]
  }
 ],
 "metadata": {
  "kernelspec": {
   "display_name": "Python 3",
   "language": "python",
   "name": "python3"
  },
  "language_info": {
   "codemirror_mode": {
    "name": "ipython",
    "version": 3
   },
   "file_extension": ".py",
   "mimetype": "text/x-python",
   "name": "python",
   "nbconvert_exporter": "python",
   "pygments_lexer": "ipython3",
   "version": "3.7.6"
  }
 },
 "nbformat": 4,
 "nbformat_minor": 4
}
