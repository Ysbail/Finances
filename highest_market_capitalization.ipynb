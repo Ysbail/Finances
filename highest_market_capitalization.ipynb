{
 "cells": [
  {
   "cell_type": "code",
   "execution_count": 2,
   "metadata": {},
   "outputs": [],
   "source": [
    "import pandas as pd"
   ]
  },
  {
   "cell_type": "code",
   "execution_count": 3,
   "metadata": {},
   "outputs": [],
   "source": [
    "listings = pd.read_csv('listings.csv')"
   ]
  },
  {
   "cell_type": "code",
   "execution_count": 4,
   "metadata": {},
   "outputs": [],
   "source": [
    "consumer_services = listings[listings.Sector == 'Consumer Services']"
   ]
  },
  {
   "cell_type": "code",
   "execution_count": 4,
   "metadata": {},
   "outputs": [],
   "source": [
    "consumer_services2 = consumer_services.sort_values('Market Capitalization', ascending=False)"
   ]
  },
  {
   "cell_type": "code",
   "execution_count": 5,
   "metadata": {},
   "outputs": [
    {
     "name": "stdout",
     "output_type": "stream",
     "text": [
      "                   Company Name Exchange  Market Capitalization\n",
      "364            Amazon.com, Inc.   nasdaq           4.221385e+11\n",
      "6540      Wal-Mart Stores, Inc.     nyse           2.218646e+11\n",
      "6541  Walt Disney Company (The)     nyse           1.789973e+11\n",
      "366         Comcast Corporation   nasdaq           1.764745e+11\n",
      "4965     Home Depot, Inc. (The)     nyse           1.752626e+11\n"
     ]
    }
   ],
   "source": [
    "print(consumer_services2[['Company Name', 'Exchange', 'Market Capitalization']].head())"
   ]
  },
  {
   "cell_type": "code",
   "execution_count": 8,
   "metadata": {},
   "outputs": [],
   "source": [
    "consumer_services.set_index('Company Name', inplace=True) "
   ]
  },
  {
   "cell_type": "code",
   "execution_count": 9,
   "metadata": {},
   "outputs": [],
   "source": [
    "top_5 = consumer_services['Market Capitalization'].nlargest(n=5)"
   ]
  },
  {
   "cell_type": "code",
   "execution_count": 10,
   "metadata": {},
   "outputs": [
    {
     "data": {
      "text/plain": [
       "Company Name\n",
       "Amazon.com, Inc.             422138.530626\n",
       "Wal-Mart Stores, Inc.        221864.614129\n",
       "Walt Disney Company (The)    178997.300994\n",
       "Comcast Corporation          176474.549756\n",
       "Home Depot, Inc. (The)       175262.566893\n",
       "Name: Market Capitalization, dtype: float64"
      ]
     },
     "execution_count": 10,
     "metadata": {},
     "output_type": "execute_result"
    }
   ],
   "source": [
    "top_5.div(1_000_000)"
   ]
  },
  {
   "cell_type": "code",
   "execution_count": null,
   "metadata": {},
   "outputs": [],
   "source": []
  }
 ],
 "metadata": {
  "kernelspec": {
   "display_name": "Python 3",
   "language": "python",
   "name": "python3"
  },
  "language_info": {
   "codemirror_mode": {
    "name": "ipython",
    "version": 3
   },
   "file_extension": ".py",
   "mimetype": "text/x-python",
   "name": "python",
   "nbconvert_exporter": "python",
   "pygments_lexer": "ipython3",
   "version": "3.7.6"
  }
 },
 "nbformat": 4,
 "nbformat_minor": 4
}
